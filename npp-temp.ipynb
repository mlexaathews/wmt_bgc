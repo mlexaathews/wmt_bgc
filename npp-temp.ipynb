{
 "cells": [
  {
   "cell_type": "code",
   "execution_count": 18,
   "metadata": {},
   "outputs": [],
   "source": [
    "import xarray as xr\n",
    "import numpy as np \n",
    "from matplotlib import pyplot as plt\n",
    "from matplotlib import cm\n",
    "#from colorspacious import cspace_converter\n",
    "from collections import OrderedDict"
   ]
  },
  {
   "cell_type": "code",
   "execution_count": 6,
   "metadata": {},
   "outputs": [],
   "source": [
    "### Let's look at the net primary production which is primary production - respiration (in this case AOU)\n",
    "\n",
    "##First we're going to load in the PRIMARY PRODUCTION data\n",
    "\n",
    "rootdir = '/archive/oar.gfdl.cmip6/ESM4/DECK/ESM4_piControl_D/gfdl.ncrc4-intel16-prod-openmp/pp/'\n",
    "\n",
    "# Annual data \n",
    "datadir_ann = 'ocean_cobalt_omip_rates_year_z/ts/annual/5yr/'\n",
    "filename_ann_pp = 'ocean_cobalt_omip_rates_year_z.0711-0715.pp.nc'\n",
    "filename_ann_vol = 'ocean_cobalt_omip_rates_year_z.0711-0715.volcello.nc'\n",
    "\n",
    "datadir_temp = 'ocean_annual_z/ts/annual/5yr/'\n",
    "filename_temp = 'ocean_annual_z.0711-0715.thetao.nc'\n",
    "\n",
    "# Monthly data\n",
    "datadir_mon_bgc = 'ocean_cobalt_omip_tracers_month_z/av/monthly_5yr/'\n",
    "filename_mon_bgc = 'ocean_cobalt_omip_tracers_month_z.0711-0715.*.nc'\n",
    "\n",
    "\n",
    "datadir_mon_phys = 'ocean_monthly_z/av/monthly_5yr/'\n",
    "filename_mon_phys = 'ocean_monthly_z.0711-0715.*.nc'"
   ]
  },
  {
   "cell_type": "code",
   "execution_count": 7,
   "metadata": {},
   "outputs": [
    {
     "name": "stderr",
     "output_type": "stream",
     "text": [
      "/nbhome/Alexandra.Matthews/miniconda/envs/basic/lib/python3.7/site-packages/xarray/coding/times.py:419: SerializationWarning: Unable to decode time axis into full numpy.datetime64 objects, continuing using cftime.datetime objects instead, reason: dates out of range\n",
      "  self.use_cftime)\n"
     ]
    }
   ],
   "source": [
    "## Now we're going to open the datasets for PRIMARY PRODUCTION\n",
    "\n",
    "#Annual data\n",
    "\n",
    "bgc_ann_pp = xr.open_dataset(rootdir+datadir_ann+filename_ann_pp)\n",
    "phys_ann_vol = xr.open_dataset(rootdir+datadir_ann+filename_ann_vol)\n",
    "temp_ann = xr.open_dataset(rootdir+datadir_temp+filename_temp)\n",
    "\n",
    "#Monthly data\n",
    "\n",
    "bgc_mon_variables = xr.open_mfdataset(rootdir+datadir_mon_bgc+filename_mon_bgc)\n",
    "phys_mon_variables = xr.open_mfdataset(rootdir+datadir_mon_phys+filename_mon_phys)"
   ]
  },
  {
   "cell_type": "code",
   "execution_count": 8,
   "metadata": {},
   "outputs": [
    {
     "name": "stderr",
     "output_type": "stream",
     "text": [
      "/nbhome/Alexandra.Matthews/miniconda/envs/basic/lib/python3.7/site-packages/numpy/core/numeric.py:538: SerializationWarning: Unable to decode time axis into full numpy.datetime64 objects, continuing using cftime.datetime objects instead, reason: dates out of range\n",
      "  return array(a, dtype, copy=False, order=order)\n",
      "/nbhome/Alexandra.Matthews/miniconda/envs/basic/lib/python3.7/site-packages/numpy/core/numeric.py:538: SerializationWarning: Unable to decode time axis into full numpy.datetime64 objects, continuing using cftime.datetime objects instead, reason: dates out of range\n",
      "  return array(a, dtype, copy=False, order=order)\n",
      "/nbhome/Alexandra.Matthews/miniconda/envs/basic/lib/python3.7/site-packages/numpy/core/numeric.py:538: SerializationWarning: Unable to decode time axis into full numpy.datetime64 objects, continuing using cftime.datetime objects instead, reason: dates out of range\n",
      "  return array(a, dtype, copy=False, order=order)\n",
      "/nbhome/Alexandra.Matthews/miniconda/envs/basic/lib/python3.7/site-packages/numpy/core/numeric.py:538: SerializationWarning: Unable to decode time axis into full numpy.datetime64 objects, continuing using cftime.datetime objects instead, reason: dates out of range\n",
      "  return array(a, dtype, copy=False, order=order)\n"
     ]
    }
   ],
   "source": [
    "##### STILL PRIMARY PRODUCTION! \n",
    "\n",
    "# Annual data\n",
    "\n",
    "ds = xr.merge([bgc_ann_pp, phys_ann_vol, temp_ann])\n",
    "\n",
    "# Monthly data \n",
    "\n",
    "dt = xr.merge([bgc_mon_variables.pp, phys_mon_variables.thetao, bgc_mon_variables.volcello])"
   ]
  },
  {
   "cell_type": "code",
   "execution_count": 9,
   "metadata": {},
   "outputs": [],
   "source": [
    "# Annual primary production x volume variable \n",
    "\n",
    "pV_ann = ds.pp * ds.volcello\n",
    "pV_ann.name = 'pV_ann'\n",
    "ds = xr.merge([ds, pV_ann])\n",
    "\n",
    "# Monthly primary production x volume variable \n",
    "\n",
    "pV_mon = dt.pp * dt.volcello\n",
    "pV_mon.name = 'pV_mon'\n",
    "dt = xr.merge([dt, pV_mon])"
   ]
  },
  {
   "cell_type": "code",
   "execution_count": 12,
   "metadata": {},
   "outputs": [],
   "source": [
    "##### And then the RESPIRATION (AOU) data\n",
    "\n",
    "datadir_ann = 'ocean_cobalt_omip_tracers_year_z/ts/annual/5yr/'\n",
    "filename_ann_o2 = 'ocean_cobalt_omip_tracers_year_z.0711-0715.o2.nc'\n",
    "filename_ann_o2sat = 'ocean_cobalt_omip_tracers_year_z.0711-0715.o2sat.nc'\n",
    "filename_ann_vol = 'ocean_cobalt_omip_tracers_year_z.0711-0715.volcello.nc'\n",
    "\n",
    "datadir_temp = 'ocean_annual_z/ts/annual/5yr/'\n",
    "filename_temp = 'ocean_annual_z.0711-0715.thetao.nc'\n",
    "\n",
    "## MONTHLY respiration \n",
    "\n",
    "datadir_mon_aou = 'ocean_cobalt_omip_tracers_month_z/av/monthly_5yr/'\n",
    "filename_mon_aou = 'ocean_cobalt_omip_tracers_month_z.0711-0715.*.nc'\n",
    "\n",
    "\n",
    "datadir_mon_temp = 'ocean_monthly_z/av/monthly_5yr/'\n",
    "filename_mon_temp = 'ocean_monthly_z.0711-0715.*.nc'\n",
    "\n"
   ]
  },
  {
   "cell_type": "code",
   "execution_count": 13,
   "metadata": {},
   "outputs": [
    {
     "name": "stderr",
     "output_type": "stream",
     "text": [
      "/nbhome/Alexandra.Matthews/miniconda/envs/basic/lib/python3.7/site-packages/xarray/coding/times.py:419: SerializationWarning: Unable to decode time axis into full numpy.datetime64 objects, continuing using cftime.datetime objects instead, reason: dates out of range\n",
      "  self.use_cftime)\n"
     ]
    }
   ],
   "source": [
    "# Annual AOU data \n",
    "\n",
    "aou_ann_o2 = xr.open_dataset(rootdir+datadir_ann+filename_ann_o2)\n",
    "aou_ann_o2sat = xr.open_dataset(rootdir+datadir_ann+filename_ann_o2sat)\n",
    "aou_ann_vol = xr.open_dataset(rootdir+datadir_ann+filename_ann_vol)\n",
    "\n",
    "aou_ann_temp = xr.open_dataset(rootdir+datadir_temp+filename_temp)\n",
    "\n",
    "# Monthly AOU data\n",
    "\n",
    "aou_mon_variables = xr.open_mfdataset(rootdir+datadir_mon_aou+filename_mon_aou)\n",
    "aou_mon_temp = xr.open_mfdataset(rootdir+datadir_mon_temp+filename_mon_temp)"
   ]
  },
  {
   "cell_type": "code",
   "execution_count": 14,
   "metadata": {},
   "outputs": [
    {
     "name": "stderr",
     "output_type": "stream",
     "text": [
      "/nbhome/Alexandra.Matthews/miniconda/envs/basic/lib/python3.7/site-packages/numpy/core/numeric.py:538: SerializationWarning: Unable to decode time axis into full numpy.datetime64 objects, continuing using cftime.datetime objects instead, reason: dates out of range\n",
      "  return array(a, dtype, copy=False, order=order)\n",
      "/nbhome/Alexandra.Matthews/miniconda/envs/basic/lib/python3.7/site-packages/numpy/core/numeric.py:538: SerializationWarning: Unable to decode time axis into full numpy.datetime64 objects, continuing using cftime.datetime objects instead, reason: dates out of range\n",
      "  return array(a, dtype, copy=False, order=order)\n",
      "/nbhome/Alexandra.Matthews/miniconda/envs/basic/lib/python3.7/site-packages/numpy/core/numeric.py:538: SerializationWarning: Unable to decode time axis into full numpy.datetime64 objects, continuing using cftime.datetime objects instead, reason: dates out of range\n",
      "  return array(a, dtype, copy=False, order=order)\n",
      "/nbhome/Alexandra.Matthews/miniconda/envs/basic/lib/python3.7/site-packages/numpy/core/numeric.py:538: SerializationWarning: Unable to decode time axis into full numpy.datetime64 objects, continuing using cftime.datetime objects instead, reason: dates out of range\n",
      "  return array(a, dtype, copy=False, order=order)\n",
      "/nbhome/Alexandra.Matthews/miniconda/envs/basic/lib/python3.7/site-packages/numpy/core/numeric.py:538: SerializationWarning: Unable to decode time axis into full numpy.datetime64 objects, continuing using cftime.datetime objects instead, reason: dates out of range\n",
      "  return array(a, dtype, copy=False, order=order)\n",
      "/nbhome/Alexandra.Matthews/miniconda/envs/basic/lib/python3.7/site-packages/numpy/core/numeric.py:538: SerializationWarning: Unable to decode time axis into full numpy.datetime64 objects, continuing using cftime.datetime objects instead, reason: dates out of range\n",
      "  return array(a, dtype, copy=False, order=order)\n"
     ]
    }
   ],
   "source": [
    "# Annual AOU dataset\n",
    "\n",
    "dm = xr.merge([aou_ann_o2, aou_ann_o2sat, aou_ann_vol, aou_ann_temp])\n",
    "\n",
    "# Monthly AOU dataset\n",
    "\n",
    "do = xr.merge([aou_mon_variables.o2, aou_mon_variables.o2sat, aou_mon_variables.volcello, aou_mon_temp.thetao])"
   ]
  },
  {
   "cell_type": "code",
   "execution_count": 15,
   "metadata": {},
   "outputs": [],
   "source": [
    "# Annual amount of moles of oxygen/saturated oxygen \n",
    "\n",
    "o2V_ann = dm.o2 * dm.volcello\n",
    "o2V_ann.name = 'o2V_ann'\n",
    "\n",
    "o2satV_ann = dm.o2sat * dm.volcello\n",
    "o2satV_ann.name = 'o2satV_ann'\n",
    "\n",
    "AOU_ann = o2satV_ann - o2V_ann \n",
    "AOU_ann.name = 'AOU_ann'\n",
    "\n",
    "dm = xr.merge([dm, AOU_ann])\n",
    "\n",
    "\n",
    "# Monthly amount of moles of oxygen/saturdated oxygen\n",
    "\n",
    "o2V_mon = do.o2 * do.volcello\n",
    "o2V_mon.name = 'o2V_mon'\n",
    "\n",
    "o2satV_mon = do.o2sat * do.volcello\n",
    "o2satV_mon.name = 'o2satV_mon'\n",
    "\n",
    "AOU_mon = o2satV_mon - o2V_mon \n",
    "AOU_mon.name = 'AOU_mon'\n",
    "\n",
    "do = xr.merge([do, AOU_mon])"
   ]
  },
  {
   "cell_type": "code",
   "execution_count": 23,
   "metadata": {},
   "outputs": [],
   "source": [
    "# Annual temperature binning for PRIMARY PRODUCTION \n",
    "\n",
    "##ds = ds.set_coords('thetao')\n",
    "\n",
    "# Monthly temperature binning for PRIMARY PRODUCTION \n",
    "\n",
    "##dt = dt.set_coords('thetao')\n",
    "\n",
    "#theta_bins = np.arange(-2,30,2)\n",
    "\n",
    "# Annual temperature binning for RESPIRATION/AOU\n",
    "\n",
    "##dm = dm.set_coords('thetao')\n",
    "\n",
    "# Monthly temperature binning for RESPIRATION/AOU\n",
    "\n",
    "##do = do.set_coords('thetao')\n",
    "\n",
    "##theta_bins = np.arange(-2,30,2)"
   ]
  },
  {
   "cell_type": "code",
   "execution_count": 21,
   "metadata": {},
   "outputs": [
    {
     "data": {
      "text/plain": [
       "<matplotlib.legend.Legend at 0x2adf17a1c898>"
      ]
     },
     "execution_count": 21,
     "metadata": {},
     "output_type": "execute_result"
    },
    {
     "data": {
      "image/png": "[encoded data removed]",
      "text/plain": [
       "<Figure size 432x288 with 1 Axes>"
      ]
     },
     "metadata": {
      "needs_background": "light"
     },
     "output_type": "display_data"
    }
   ],
   "source": [
    "###### Okay so I first want to look at a graph of...\n",
    "###### ...primary production and respiration on one single graph\n",
    "\n",
    "## Let's start off with ANNUAL measurements \n",
    "\n",
    "labels_pp = [\"711-PP\", \"712-PP\", \"713-PP\", \"714-PP\", \"715-PP\"]\n",
    "colors_pp = cm.get_cmap('plasma',5).colors \n",
    "\n",
    "for t in range(5):\n",
    "\n",
    "    pV_in_theta = ds.pV_ann.isel(time=t,yh=range(0,576)).groupby_bins('thetao',theta_bins)\n",
    " \n",
    "    p_vsum = pV_in_theta.sum(xr.ALL_DIMS)\n",
    "    \n",
    "    p_vsum.plot(label=labels_pp[t], color=colors_pp[t,:])\n",
    "    \n",
    "\n",
    "\n",
    "labels_AOU = [\"711-AOU\", \"712-AOU\", \"713-AOU\", \"714-AOU\", \"715-AOU\"]\n",
    "colors_AOU = cm.get_cmap('magma',5).colors \n",
    "\n",
    "for i in range(5):\n",
    "\n",
    "    AOU_ann_in_theta = dm.AOU_ann.isel(time=i,yh=range(0,576)).groupby_bins('thetao',theta_bins)\n",
    " \n",
    "    p_vsum = AOU_ann_in_theta.sum(xr.ALL_DIMS)\n",
    "    \n",
    "    p_vsum.plot(label=labels_AOU[i], color=colors_AOU[i,:])\n",
    "       \n",
    "       \n",
    "    \n",
    "plt.title('Annual Primary Production in the ESM4 Model between Years 711-715')\n",
    "plt.xlabel('Temperature (deg C)')\n",
    "plt.ylabel('Moles per second')\n",
    "plt.legend(loc = 'center left', bbox_to_anchor=(1, 0.5))\n"
   ]
  },
  {
   "cell_type": "code",
   "execution_count": null,
   "metadata": {},
   "outputs": [],
   "source": [
    "## Okay...\n",
    "## I honestly think this is what all of the graphs (monthly and hemispherical) will look lik\n",
    "##.. so I won't bother!"
   ]
  },
  {
   "cell_type": "code",
   "execution_count": 25,
   "metadata": {},
   "outputs": [],
   "source": [
    "## Alrighty I'm going to move on with NPP \n",
    "# NPP = PRIMARY PRODUCTION - RESPIRATION (AOU)\n",
    "## Of course let's start with ANNUAL!\n",
    "\n",
    "npp_ann = pV_ann - AOU_ann\n",
    "npp_ann.name = 'npp_ann'\n",
    "\n",
    "da = xr.merge([ds, dm, npp_ann ])\n",
    "\n",
    "theta_bins_ann = np.arange(-2,30,2)"
   ]
  },
  {
   "cell_type": "code",
   "execution_count": 26,
   "metadata": {},
   "outputs": [
    {
     "data": {
      "text/plain": [
       "<xarray.Dataset>\n",
       "Dimensions:     (nv: 2, time: 5, xh: 720, yh: 576, z_i: 36, z_l: 35)\n",
       "Coordinates:\n",
       "  * nv          (nv) float64 1.0 2.0\n",
       "  * time        (time) object 0711-07-02 12:00:00 ... 0715-07-02 12:00:00\n",
       "  * xh          (xh) float64 -299.8 -299.2 -298.8 -298.2 ... 58.75 59.25 59.75\n",
       "  * yh          (yh) float64 -77.91 -77.72 -77.54 -77.36 ... 89.47 89.68 89.89\n",
       "  * z_i         (z_i) float64 0.0 5.0 15.0 25.0 ... 5.75e+03 6.25e+03 6.75e+03\n",
       "  * z_l         (z_l) float64 2.5 10.0 20.0 32.5 ... 5e+03 5.5e+03 6e+03 6.5e+03\n",
       "    thetao      (time, z_l, yh, xh) float32 nan nan nan nan ... nan nan nan nan\n",
       "Data variables:\n",
       "    average_DT  (time) timedelta64[ns] 365 days 365 days ... 365 days 365 days\n",
       "    average_T1  (time) object 0710-07-08 00:00:00 ... 0714-07-07 00:00:00\n",
       "    average_T2  (time) object 0711-07-08 00:00:00 ... 0715-07-07 00:00:00\n",
       "    pp          (time, z_l, yh, xh) float32 ...\n",
       "    time_bnds   (time, nv) object 0711-01-01 00:00:00 ... 0716-01-01 00:00:00\n",
       "    volcello    (time, z_l, yh, xh) float32 nan nan nan nan ... nan nan nan nan\n",
       "    pV_ann      (time, z_l, yh, xh) float32 nan nan nan nan ... nan nan nan nan\n",
       "    o2          (time, z_l, yh, xh) float32 ...\n",
       "    o2sat       (time, z_l, yh, xh) float32 ...\n",
       "    AOU_ann     (time, z_l, yh, xh) float32 nan nan nan nan ... nan nan nan nan\n",
       "    npp_ann     (time, z_l, yh, xh) float32 nan nan nan nan ... nan nan nan nan"
      ]
     },
     "execution_count": 26,
     "metadata": {},
     "output_type": "execute_result"
    }
   ],
   "source": [
    "da"
   ]
  },
  {
   "cell_type": "code",
   "execution_count": 27,
   "metadata": {},
   "outputs": [
    {
     "data": {
      "text/plain": [
       "<matplotlib.legend.Legend at 0x2adf17a2b630>"
      ]
     },
     "execution_count": 27,
     "metadata": {},
     "output_type": "execute_result"
    },
    {
     "data": {
      "image/png": "[encoded data removed]",
      "text/plain": [
       "<Figure size 432x288 with 1 Axes>"
      ]
     },
     "metadata": {
      "needs_background": "light"
     },
     "output_type": "display_data"
    }
   ],
   "source": [
    "labels = [\"711\", \"712\", \"713\", \"714\", \"715\"]\n",
    "colors = cm.get_cmap('plasma',5).colors \n",
    "\n",
    "for t in range(5):\n",
    "\n",
    "    ppV_in_theta = da.npp_ann.isel(time=t,yh=range(0,576)).groupby_bins('thetao',theta_bins_ann)\n",
    " \n",
    "    pp_vsum = ppV_in_theta.sum(xr.ALL_DIMS)\n",
    "    \n",
    "    pp_vsum.plot(label=labels[t], color=colors[t,:])\n",
    "       \n",
    "    \n",
    "plt.title('Annual Net Primary Production in the ESM4 Model between Years 711-715')\n",
    "plt.xlabel('Temperature (deg C)')\n",
    "plt.ylabel('Moles per second')\n",
    "plt.legend(loc = 'center left', bbox_to_anchor=(1, 0.5))"
   ]
  },
  {
   "cell_type": "code",
   "execution_count": 37,
   "metadata": {},
   "outputs": [],
   "source": [
    "## Interesante!!!!!\n",
    "## Okay let's do this for each MONTH! \n",
    "\n",
    "npp_mon = (pV_mon - AOU_mon)\n",
    "npp_mon.name = 'npp_mon'\n",
    "\n",
    "dz = xr.merge([dt, do, npp_mon])\n",
    "\n",
    "theta_bins_mon = np.arange(-2,30,2)"
   ]
  },
  {
   "cell_type": "code",
   "execution_count": 38,
   "metadata": {},
   "outputs": [
    {
     "data": {
      "text/plain": [
       "<xarray.Dataset>\n",
       "Dimensions:   (time: 12, xh: 720, yh: 576, z_l: 35)\n",
       "Coordinates:\n",
       "  * xh        (xh) float64 -299.8 -299.2 -298.8 -298.2 ... 58.75 59.25 59.75\n",
       "  * yh        (yh) float64 -77.91 -77.72 -77.54 -77.36 ... 89.47 89.68 89.89\n",
       "  * z_l       (z_l) float64 2.5 10.0 20.0 32.5 ... 5e+03 5.5e+03 6e+03 6.5e+03\n",
       "  * time      (time) object 0715-01-16 12:00:00 ... 0715-12-16 12:00:00\n",
       "    thetao    (time, z_l, yh, xh) float32 dask.array<shape=(12, 35, 576, 720), chunksize=(1, 35, 576, 720)>\n",
       "Data variables:\n",
       "    pp        (time, z_l, yh, xh) float32 dask.array<shape=(12, 35, 576, 720), chunksize=(1, 35, 576, 720)>\n",
       "    volcello  (time, z_l, yh, xh) float32 dask.array<shape=(12, 35, 576, 720), chunksize=(1, 35, 576, 720)>\n",
       "    pV_mon    (time, z_l, yh, xh) float32 dask.array<shape=(12, 35, 576, 720), chunksize=(1, 35, 576, 720)>\n",
       "    o2        (time, z_l, yh, xh) float32 dask.array<shape=(12, 35, 576, 720), chunksize=(1, 35, 576, 720)>\n",
       "    o2sat     (time, z_l, yh, xh) float32 dask.array<shape=(12, 35, 576, 720), chunksize=(1, 35, 576, 720)>\n",
       "    AOU_mon   (time, z_l, yh, xh) float32 dask.array<shape=(12, 35, 576, 720), chunksize=(1, 35, 576, 720)>\n",
       "    npp_mon   (time, z_l, yh, xh) float32 dask.array<shape=(12, 35, 576, 720), chunksize=(1, 35, 576, 720)>"
      ]
     },
     "execution_count": 38,
     "metadata": {},
     "output_type": "execute_result"
    }
   ],
   "source": [
    "dz"
   ]
  },
  {
   "cell_type": "code",
   "execution_count": 39,
   "metadata": {},
   "outputs": [
    {
     "data": {
      "text/plain": [
       "<matplotlib.legend.Legend at 0x2adf17bb9320>"
      ]
     },
     "execution_count": 39,
     "metadata": {},
     "output_type": "execute_result"
    },
    {
     "data": {
      "image/png": "[encoded data removed]",
      "text/plain": [
       "<Figure size 432x288 with 1 Axes>"
      ]
     },
     "metadata": {
      "needs_background": "light"
     },
     "output_type": "display_data"
    }
   ],
   "source": [
    "labels = [\"January\", \"February\", \"March\", \"April\", \"May\", \"June\", \"July\", \"August\", \"September\", \"October\", \"November\", \"December\"]\n",
    "colors = cm.get_cmap('plasma',12).colors \n",
    "\n",
    "for t in range(12):\n",
    "    nppV_in_theta = dz.npp_mon.isel(time=t,yh=range(0,576)).groupby_bins('thetao',theta_bins_mon)\n",
    " \n",
    "    npp_vsum = nppV_in_theta.sum(xr.ALL_DIMS) \n",
    "\n",
    "    npp_vsum.plot(label=labels[t], color=colors[t,:])\n",
    "    \n",
    "plt.title('Average Monthly Net Primary Production in the ESM4 Model between Years 711-715')\n",
    "plt.xlabel('Temperature (deg C)')\n",
    "plt.ylabel('Content (moles)')\n",
    "plt.legend(loc = 'center left', bbox_to_anchor=(1, 0.5))"
   ]
  },
  {
   "cell_type": "code",
   "execution_count": null,
   "metadata": {},
   "outputs": [],
   "source": []
  }
 ],
 "metadata": {
  "kernelspec": {
   "display_name": "Python 3",
   "language": "python",
   "name": "python3"
  },
  "language_info": {
   "codemirror_mode": {
    "name": "ipython",
    "version": 3
   },
   "file_extension": ".py",
   "mimetype": "text/x-python",
   "name": "python",
   "nbconvert_exporter": "python",
   "pygments_lexer": "ipython3",
   "version": "3.7.3"
  }
 },
 "nbformat": 4,
 "nbformat_minor": 2
}
