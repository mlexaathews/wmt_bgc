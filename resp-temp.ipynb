{
 "cells": [
  {
   "cell_type": "code",
   "execution_count": 1,
   "metadata": {},
   "outputs": [],
   "source": [
    "import xarray as xr\n",
    "import numpy as np \n",
    "from matplotlib import pyplot as plt\n",
    "from matplotlib import cm"
   ]
  },
  {
   "cell_type": "code",
   "execution_count": 2,
   "metadata": {},
   "outputs": [],
   "source": [
    "## Okay so I decided to make a new notebook because it's way easier to...\n",
    "## ...organize things this way \n",
    "\n",
    "## Alright anywho, let's now look at the (somewhat) opposite proccess of primary production, which is respiration!\n",
    "## We're going to use AOU (apparent oxygen utilization) as an indicator of respiration because..\n",
    "    # A) Using the amount of accumulated carbon dioxide wouldn't be totally accurate since carbon dioxide levels gets too involved into carbonate chemistry \n",
    "    # Oxygen, on the other hand, is a reactant in the respiration equation/mechanism\n",
    "    # AOU essentially measures the amount of oxygen that was used up in this respiration equation (more or less) and would be a sort of proxy to indicate how much..\n",
    "    #..organic matter is being oxidized \n",
    "    # The AOU variable is an equation where the amount of oxygen that is respired is subtracted from the amount of oxygen in the ocean that's involved with sea-air exchange\n"
   ]
  },
  {
   "cell_type": "code",
   "execution_count": 3,
   "metadata": {},
   "outputs": [],
   "source": [
    "### Alright, now that that's established, let's call in our directories:\n",
    "\n",
    "rootdir = '/archive/oar.gfdl.cmip6/ESM4/DECK/ESM4_piControl_D/gfdl.ncrc4-intel16-prod-openmp/pp/'\n",
    "\n",
    "# We're going to start with ANNUAL respiration\n",
    "\n",
    "datadir_ann = 'ocean_cobalt_omip_tracers_year_z/ts/annual/5yr/'\n",
    "filename_ann_o2 = 'ocean_cobalt_omip_tracers_year_z.0711-0715.o2.nc'\n",
    "filename_ann_o2sat = 'ocean_cobalt_omip_tracers_year_z.0711-0715.o2sat.nc'\n",
    "filename_ann_vol = 'ocean_cobalt_omip_tracers_year_z.0711-0715.volcello.nc'\n",
    "\n",
    "datadir_temp = 'ocean_annual_z/ts/annual/5yr/'\n",
    "filename_temp = 'ocean_annual_z.0711-0715.thetao.nc'\n",
    "\n",
    "## MONTHLY respiration \n",
    "\n",
    "datadir_mon_aou = 'ocean_cobalt_omip_tracers_month_z/av/monthly_5yr/'\n",
    "filename_mon_aou = 'ocean_cobalt_omip_tracers_month_z.0711-0715.*.nc'\n",
    "\n",
    "\n",
    "datadir_mon_temp = 'ocean_monthly_z/av/monthly_5yr/'\n",
    "filename_mon_temp = 'ocean_monthly_z.0711-0715.*.nc'\n"
   ]
  },
  {
   "cell_type": "code",
   "execution_count": 5,
   "metadata": {},
   "outputs": [],
   "source": [
    "# Annual data \n",
    "\n",
    "aou_ann_o2 = xr.open_dataset(rootdir+datadir_ann+filename_ann_o2)\n",
    "aou_ann_o2sat = xr.open_dataset(rootdir+datadir_ann+filename_ann_o2sat)\n",
    "aou_ann_vol = xr.open_dataset(rootdir+datadir_ann+filename_ann_vol)\n",
    "\n",
    "aou_ann_temp = xr.open_dataset(rootdir+datadir_temp+filename_temp)"
   ]
  },
  {
   "cell_type": "code",
   "execution_count": 6,
   "metadata": {},
   "outputs": [],
   "source": [
    "# Monthly data\n",
    "\n",
    "aou_mon_variables = xr.open_mfdataset(rootdir+datadir_mon_aou+filename_mon_aou)\n",
    "aou_mon_temp = xr.open_mfdataset(rootdir+datadir_mon_temp+filename_mon_temp)"
   ]
  },
  {
   "cell_type": "code",
   "execution_count": 7,
   "metadata": {},
   "outputs": [
    {
     "name": "stderr",
     "output_type": "stream",
     "text": [
      "/nbhome/Alexandra.Matthews/miniconda/envs/basic/lib/python3.7/site-packages/numpy/core/numeric.py:538: SerializationWarning: Unable to decode time axis into full numpy.datetime64 objects, continuing using cftime.datetime objects instead, reason: dates out of range\n",
      "  return array(a, dtype, copy=False, order=order)\n",
      "/nbhome/Alexandra.Matthews/miniconda/envs/basic/lib/python3.7/site-packages/numpy/core/numeric.py:538: SerializationWarning: Unable to decode time axis into full numpy.datetime64 objects, continuing using cftime.datetime objects instead, reason: dates out of range\n",
      "  return array(a, dtype, copy=False, order=order)\n",
      "/nbhome/Alexandra.Matthews/miniconda/envs/basic/lib/python3.7/site-packages/numpy/core/numeric.py:538: SerializationWarning: Unable to decode time axis into full numpy.datetime64 objects, continuing using cftime.datetime objects instead, reason: dates out of range\n",
      "  return array(a, dtype, copy=False, order=order)\n",
      "/nbhome/Alexandra.Matthews/miniconda/envs/basic/lib/python3.7/site-packages/numpy/core/numeric.py:538: SerializationWarning: Unable to decode time axis into full numpy.datetime64 objects, continuing using cftime.datetime objects instead, reason: dates out of range\n",
      "  return array(a, dtype, copy=False, order=order)\n",
      "/nbhome/Alexandra.Matthews/miniconda/envs/basic/lib/python3.7/site-packages/numpy/core/numeric.py:538: SerializationWarning: Unable to decode time axis into full numpy.datetime64 objects, continuing using cftime.datetime objects instead, reason: dates out of range\n",
      "  return array(a, dtype, copy=False, order=order)\n",
      "/nbhome/Alexandra.Matthews/miniconda/envs/basic/lib/python3.7/site-packages/numpy/core/numeric.py:538: SerializationWarning: Unable to decode time axis into full numpy.datetime64 objects, continuing using cftime.datetime objects instead, reason: dates out of range\n",
      "  return array(a, dtype, copy=False, order=order)\n"
     ]
    }
   ],
   "source": [
    "## Now we're going to create the datasets\n",
    "\n",
    "# Annual data\n",
    "\n",
    "dm = xr.merge([aou_ann_o2, aou_ann_o2sat, aou_ann_vol, aou_ann_temp])\n",
    "\n",
    "# Monthly data\n",
    "\n",
    "do = xr.merge([aou_mon_variables.o2, aou_mon_variables.o2sat, aou_mon_variables.volcello, aou_mon_temp.thetao])"
   ]
  },
  {
   "cell_type": "code",
   "execution_count": 9,
   "metadata": {},
   "outputs": [
    {
     "ename": "ValueError",
     "evalue": "unable to convert unnamed DataArray to a Dataset without providing an explicit name",
     "output_type": "error",
     "traceback": [
      "\u001b[0;31m---------------------------------------------------------------------------\u001b[0m",
      "\u001b[0;31mValueError\u001b[0m                                Traceback (most recent call last)",
      "\u001b[0;32m<ipython-input-9-540e6df28cd4>\u001b[0m in \u001b[0;36m<module>\u001b[0;34m\u001b[0m\n\u001b[1;32m     16\u001b[0m \u001b[0mAOU_ann\u001b[0m \u001b[0;34m=\u001b[0m \u001b[0mo2satV_ann\u001b[0m \u001b[0;34m-\u001b[0m \u001b[0mo2V_ann\u001b[0m\u001b[0;34m\u001b[0m\u001b[0;34m\u001b[0m\u001b[0m\n\u001b[1;32m     17\u001b[0m \u001b[0;34m\u001b[0m\u001b[0m\n\u001b[0;32m---> 18\u001b[0;31m \u001b[0mdm\u001b[0m \u001b[0;34m=\u001b[0m \u001b[0mxr\u001b[0m\u001b[0;34m.\u001b[0m\u001b[0mmerge\u001b[0m\u001b[0;34m(\u001b[0m\u001b[0;34m[\u001b[0m\u001b[0mdm\u001b[0m\u001b[0;34m,\u001b[0m \u001b[0mAOU_ann\u001b[0m\u001b[0;34m]\u001b[0m\u001b[0;34m)\u001b[0m\u001b[0;34m\u001b[0m\u001b[0;34m\u001b[0m\u001b[0m\n\u001b[0m\u001b[1;32m     19\u001b[0m \u001b[0;34m\u001b[0m\u001b[0m\n\u001b[1;32m     20\u001b[0m \u001b[0;34m\u001b[0m\u001b[0m\n",
      "\u001b[0;32m/nbhome/Alexandra.Matthews/miniconda/envs/basic/lib/python3.7/site-packages/xarray/core/merge.py\u001b[0m in \u001b[0;36mmerge\u001b[0;34m(objects, compat, join)\u001b[0m\n\u001b[1;32m    528\u001b[0m     dict_like_objects = [\n\u001b[1;32m    529\u001b[0m         \u001b[0mobj\u001b[0m\u001b[0;34m.\u001b[0m\u001b[0mto_dataset\u001b[0m\u001b[0;34m(\u001b[0m\u001b[0;34m)\u001b[0m \u001b[0;32mif\u001b[0m \u001b[0misinstance\u001b[0m\u001b[0;34m(\u001b[0m\u001b[0mobj\u001b[0m\u001b[0;34m,\u001b[0m \u001b[0mDataArray\u001b[0m\u001b[0;34m)\u001b[0m \u001b[0;32melse\u001b[0m \u001b[0mobj\u001b[0m\u001b[0;34m\u001b[0m\u001b[0;34m\u001b[0m\u001b[0m\n\u001b[0;32m--> 530\u001b[0;31m         for obj in objects]\n\u001b[0m\u001b[1;32m    531\u001b[0m \u001b[0;34m\u001b[0m\u001b[0m\n\u001b[1;32m    532\u001b[0m     \u001b[0mvariables\u001b[0m\u001b[0;34m,\u001b[0m \u001b[0mcoord_names\u001b[0m\u001b[0;34m,\u001b[0m \u001b[0mdims\u001b[0m \u001b[0;34m=\u001b[0m \u001b[0mmerge_core\u001b[0m\u001b[0;34m(\u001b[0m\u001b[0mdict_like_objects\u001b[0m\u001b[0;34m,\u001b[0m \u001b[0mcompat\u001b[0m\u001b[0;34m,\u001b[0m \u001b[0mjoin\u001b[0m\u001b[0;34m)\u001b[0m\u001b[0;34m\u001b[0m\u001b[0;34m\u001b[0m\u001b[0m\n",
      "\u001b[0;32m/nbhome/Alexandra.Matthews/miniconda/envs/basic/lib/python3.7/site-packages/xarray/core/merge.py\u001b[0m in \u001b[0;36m<listcomp>\u001b[0;34m(.0)\u001b[0m\n\u001b[1;32m    528\u001b[0m     dict_like_objects = [\n\u001b[1;32m    529\u001b[0m         \u001b[0mobj\u001b[0m\u001b[0;34m.\u001b[0m\u001b[0mto_dataset\u001b[0m\u001b[0;34m(\u001b[0m\u001b[0;34m)\u001b[0m \u001b[0;32mif\u001b[0m \u001b[0misinstance\u001b[0m\u001b[0;34m(\u001b[0m\u001b[0mobj\u001b[0m\u001b[0;34m,\u001b[0m \u001b[0mDataArray\u001b[0m\u001b[0;34m)\u001b[0m \u001b[0;32melse\u001b[0m \u001b[0mobj\u001b[0m\u001b[0;34m\u001b[0m\u001b[0;34m\u001b[0m\u001b[0m\n\u001b[0;32m--> 530\u001b[0;31m         for obj in objects]\n\u001b[0m\u001b[1;32m    531\u001b[0m \u001b[0;34m\u001b[0m\u001b[0m\n\u001b[1;32m    532\u001b[0m     \u001b[0mvariables\u001b[0m\u001b[0;34m,\u001b[0m \u001b[0mcoord_names\u001b[0m\u001b[0;34m,\u001b[0m \u001b[0mdims\u001b[0m \u001b[0;34m=\u001b[0m \u001b[0mmerge_core\u001b[0m\u001b[0;34m(\u001b[0m\u001b[0mdict_like_objects\u001b[0m\u001b[0;34m,\u001b[0m \u001b[0mcompat\u001b[0m\u001b[0;34m,\u001b[0m \u001b[0mjoin\u001b[0m\u001b[0;34m)\u001b[0m\u001b[0;34m\u001b[0m\u001b[0;34m\u001b[0m\u001b[0m\n",
      "\u001b[0;32m/nbhome/Alexandra.Matthews/miniconda/envs/basic/lib/python3.7/site-packages/xarray/core/dataarray.py\u001b[0m in \u001b[0;36mto_dataset\u001b[0;34m(self, dim, name)\u001b[0m\n\u001b[1;32m    356\u001b[0m             \u001b[0;32mreturn\u001b[0m \u001b[0mself\u001b[0m\u001b[0;34m.\u001b[0m\u001b[0m_to_dataset_split\u001b[0m\u001b[0;34m(\u001b[0m\u001b[0mdim\u001b[0m\u001b[0;34m)\u001b[0m\u001b[0;34m\u001b[0m\u001b[0;34m\u001b[0m\u001b[0m\n\u001b[1;32m    357\u001b[0m         \u001b[0;32melse\u001b[0m\u001b[0;34m:\u001b[0m\u001b[0;34m\u001b[0m\u001b[0;34m\u001b[0m\u001b[0m\n\u001b[0;32m--> 358\u001b[0;31m             \u001b[0;32mreturn\u001b[0m \u001b[0mself\u001b[0m\u001b[0;34m.\u001b[0m\u001b[0m_to_dataset_whole\u001b[0m\u001b[0;34m(\u001b[0m\u001b[0mname\u001b[0m\u001b[0;34m)\u001b[0m\u001b[0;34m\u001b[0m\u001b[0;34m\u001b[0m\u001b[0m\n\u001b[0m\u001b[1;32m    359\u001b[0m \u001b[0;34m\u001b[0m\u001b[0m\n\u001b[1;32m    360\u001b[0m     \u001b[0;34m@\u001b[0m\u001b[0mproperty\u001b[0m\u001b[0;34m\u001b[0m\u001b[0;34m\u001b[0m\u001b[0m\n",
      "\u001b[0;32m/nbhome/Alexandra.Matthews/miniconda/envs/basic/lib/python3.7/site-packages/xarray/core/dataarray.py\u001b[0m in \u001b[0;36m_to_dataset_whole\u001b[0;34m(self, name, shallow_copy)\u001b[0m\n\u001b[1;32m    310\u001b[0m             \u001b[0mname\u001b[0m \u001b[0;34m=\u001b[0m \u001b[0mself\u001b[0m\u001b[0;34m.\u001b[0m\u001b[0mname\u001b[0m\u001b[0;34m\u001b[0m\u001b[0;34m\u001b[0m\u001b[0m\n\u001b[1;32m    311\u001b[0m         \u001b[0;32mif\u001b[0m \u001b[0mname\u001b[0m \u001b[0;32mis\u001b[0m \u001b[0;32mNone\u001b[0m\u001b[0;34m:\u001b[0m\u001b[0;34m\u001b[0m\u001b[0;34m\u001b[0m\u001b[0m\n\u001b[0;32m--> 312\u001b[0;31m             raise ValueError('unable to convert unnamed DataArray to a '\n\u001b[0m\u001b[1;32m    313\u001b[0m                              'Dataset without providing an explicit name')\n\u001b[1;32m    314\u001b[0m         \u001b[0;32mif\u001b[0m \u001b[0mname\u001b[0m \u001b[0;32min\u001b[0m \u001b[0mself\u001b[0m\u001b[0;34m.\u001b[0m\u001b[0mcoords\u001b[0m\u001b[0;34m:\u001b[0m\u001b[0;34m\u001b[0m\u001b[0;34m\u001b[0m\u001b[0m\n",
      "\u001b[0;31mValueError\u001b[0m: unable to convert unnamed DataArray to a Dataset without providing an explicit name"
     ]
    }
   ],
   "source": [
    "### Annual respiration x volume variables \n",
    "## This is going to be a little different from previous notebooks..\n",
    "## ..where I only multiplied one variable by volume\n",
    "## We're going to multiply both o2 and o2sat by volume to get the mole content\n",
    "## We're also going to subtract o2 from o2sat\n",
    "\n",
    "\n",
    "# Annual amount of moles \n",
    "\n",
    "o2V_ann = dm.o2 * dm.volcello\n",
    "o2V_ann.name = 'o2V_ann'\n",
    "\n",
    "o2satV_ann = dm.o2sat * dm.volcello\n",
    "o2satV_ann.name = 'o2satV_ann'\n",
    "\n",
    "AOU_ann = o2satV_ann - o2V_ann \n",
    "\n",
    "dm = xr.merge([dm, AOU_ann])\n",
    "\n",
    "\n",
    "# Monthly amount of moles \n",
    "\n",
    "o2V_mon = do.o2 * do.volcello\n",
    "o2V_mon.name = 'o2V_mon'\n",
    "\n",
    "o2satV_mon = do.o2sat * do.volcello\n",
    "o2satV_mon.name = 'o2satV_mon'\n",
    "\n",
    "AOU_mon = o2satV_mon - o2V_mon \n",
    "\n",
    "do = xr.merge([do, AOU_mon])"
   ]
  },
  {
   "cell_type": "code",
   "execution_count": null,
   "metadata": {},
   "outputs": [],
   "source": [
    "# Annual temperature binning\n",
    "\n",
    "dm = dm.set_coords('thetao')\n",
    "\n",
    "# Monthly temperature binning \n",
    "\n",
    "do = do.set_coords('thetao')"
   ]
  }
 ],
 "metadata": {
  "kernelspec": {
   "display_name": "Python 3",
   "language": "python",
   "name": "python3"
  },
  "language_info": {
   "codemirror_mode": {
    "name": "ipython",
    "version": 3
   },
   "file_extension": ".py",
   "mimetype": "text/x-python",
   "name": "python",
   "nbconvert_exporter": "python",
   "pygments_lexer": "ipython3",
   "version": "3.7.3"
  }
 },
 "nbformat": 4,
 "nbformat_minor": 2
}
