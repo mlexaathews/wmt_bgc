{
 "cells": [
  {
   "cell_type": "code",
   "execution_count": 1,
   "metadata": {},
   "outputs": [],
   "source": [
    "import xarray as xr\n",
    "import numpy as np \n",
    "from matplotlib import pyplot as plt\n",
    "from matplotlib import cm"
   ]
  },
  {
   "cell_type": "code",
   "execution_count": 2,
   "metadata": {},
   "outputs": [],
   "source": [
    "rootdir = '/archive/Graeme.Macgilchrist/ESM4/DECK/ESM4_piControl_D/gfdl.ncrc4-intel16-prod-openmp/2/history/0850*01.ocean_month.nc'\n"
   ]
  },
  {
   "cell_type": "code",
   "execution_count": 3,
   "metadata": {},
   "outputs": [
    {
     "name": "stderr",
     "output_type": "stream",
     "text": [
      "/nbhome/Alexandra.Matthews/miniconda/envs/basic/lib/python3.7/site-packages/xarray/coding/times.py:419: SerializationWarning: Unable to decode time axis into full numpy.datetime64 objects, continuing using cftime.datetime objects instead, reason: dates out of range\n",
      "  self.use_cftime)\n"
     ]
    },
    {
     "data": {
      "text/plain": [
       "<xarray.Dataset>\n",
       "Dimensions:          (nv: 2, time: 12, xh: 720, yh: 576, z_i: 36, z_l: 35)\n",
       "Coordinates:\n",
       "  * xh               (xh) float64 -299.8 -299.2 -298.8 ... 58.75 59.25 59.75\n",
       "  * yh               (yh) float64 -77.91 -77.72 -77.54 ... 89.47 89.68 89.89\n",
       "  * z_l              (z_l) float64 2.5 10.0 20.0 32.5 ... 5.5e+03 6e+03 6.5e+03\n",
       "  * z_i              (z_i) float64 0.0 5.0 15.0 ... 5.75e+03 6.25e+03 6.75e+03\n",
       "  * nv               (nv) float64 1.0 2.0\n",
       "  * time             (time) object 0850-01-16 12:00:00 ... 0850-12-16 12:00:00\n",
       "Data variables:\n",
       "    volcello         (time, z_l, yh, xh) float32 dask.array<shape=(12, 35, 576, 720), chunksize=(1, 35, 576, 720)>\n",
       "    thkcello         (time, z_l, yh, xh) float32 dask.array<shape=(12, 35, 576, 720), chunksize=(1, 35, 576, 720)>\n",
       "    thetao           (time, z_l, yh, xh) float32 dask.array<shape=(12, 35, 576, 720), chunksize=(1, 35, 576, 720)>\n",
       "    so               (time, z_l, yh, xh) float32 dask.array<shape=(12, 35, 576, 720), chunksize=(1, 35, 576, 720)>\n",
       "    rhopot0          (time, z_l, yh, xh) float32 dask.array<shape=(12, 35, 576, 720), chunksize=(1, 35, 576, 720)>\n",
       "    rhopot2          (time, z_l, yh, xh) float32 dask.array<shape=(12, 35, 576, 720), chunksize=(1, 35, 576, 720)>\n",
       "    pp               (time, z_l, yh, xh) float32 dask.array<shape=(12, 35, 576, 720), chunksize=(1, 35, 576, 720)>\n",
       "    ppdiaz           (time, z_l, yh, xh) float32 dask.array<shape=(12, 35, 576, 720), chunksize=(1, 35, 576, 720)>\n",
       "    ppdiat           (time, z_l, yh, xh) float32 dask.array<shape=(12, 35, 576, 720), chunksize=(1, 35, 576, 720)>\n",
       "    pppico           (time, z_l, yh, xh) float32 dask.array<shape=(12, 35, 576, 720), chunksize=(1, 35, 576, 720)>\n",
       "    ppmisc           (time, z_l, yh, xh) float32 dask.array<shape=(12, 35, 576, 720), chunksize=(1, 35, 576, 720)>\n",
       "    remoc            (time, z_l, yh, xh) float32 dask.array<shape=(12, 35, 576, 720), chunksize=(1, 35, 576, 720)>\n",
       "    expc             (time, z_l, yh, xh) float32 dask.array<shape=(12, 35, 576, 720), chunksize=(1, 35, 576, 720)>\n",
       "    graz             (time, z_l, yh, xh) float32 dask.array<shape=(12, 35, 576, 720), chunksize=(1, 35, 576, 720)>\n",
       "    bddtdic          (time, z_l, yh, xh) float32 dask.array<shape=(12, 35, 576, 720), chunksize=(1, 35, 576, 720)>\n",
       "    jvirloss_n_Di    (time, z_l, yh, xh) float32 dask.array<shape=(12, 35, 576, 720), chunksize=(1, 35, 576, 720)>\n",
       "    jvirloss_n_Lg    (time, z_l, yh, xh) float32 dask.array<shape=(12, 35, 576, 720), chunksize=(1, 35, 576, 720)>\n",
       "    jvirloss_n_Sm    (time, z_l, yh, xh) float32 dask.array<shape=(12, 35, 576, 720), chunksize=(1, 35, 576, 720)>\n",
       "    jvirloss_n_Bact  (time, z_l, yh, xh) float32 dask.array<shape=(12, 35, 576, 720), chunksize=(1, 35, 576, 720)>\n",
       "    phyc             (time, z_l, yh, xh) float32 dask.array<shape=(12, 35, 576, 720), chunksize=(1, 35, 576, 720)>\n",
       "    phydiat          (time, z_l, yh, xh) float32 dask.array<shape=(12, 35, 576, 720), chunksize=(1, 35, 576, 720)>\n",
       "    phydiaz          (time, z_l, yh, xh) float32 dask.array<shape=(12, 35, 576, 720), chunksize=(1, 35, 576, 720)>\n",
       "    phymisc          (time, z_l, yh, xh) float32 dask.array<shape=(12, 35, 576, 720), chunksize=(1, 35, 576, 720)>\n",
       "    phypico          (time, z_l, yh, xh) float32 dask.array<shape=(12, 35, 576, 720), chunksize=(1, 35, 576, 720)>\n",
       "    zooc             (time, z_l, yh, xh) float32 dask.array<shape=(12, 35, 576, 720), chunksize=(1, 35, 576, 720)>\n",
       "    zmeso            (time, z_l, yh, xh) float32 dask.array<shape=(12, 35, 576, 720), chunksize=(1, 35, 576, 720)>\n",
       "    zmicro           (time, z_l, yh, xh) float32 dask.array<shape=(12, 35, 576, 720), chunksize=(1, 35, 576, 720)>\n",
       "    bacc             (time, z_l, yh, xh) float32 dask.array<shape=(12, 35, 576, 720), chunksize=(1, 35, 576, 720)>\n",
       "    o2               (time, z_l, yh, xh) float32 dask.array<shape=(12, 35, 576, 720), chunksize=(1, 35, 576, 720)>\n",
       "    o2sat            (time, z_l, yh, xh) float32 dask.array<shape=(12, 35, 576, 720), chunksize=(1, 35, 576, 720)>\n",
       "    dissic           (time, z_l, yh, xh) float32 dask.array<shape=(12, 35, 576, 720), chunksize=(1, 35, 576, 720)>\n",
       "    dissoc           (time, z_l, yh, xh) float32 dask.array<shape=(12, 35, 576, 720), chunksize=(1, 35, 576, 720)>\n",
       "    detoc            (time, z_l, yh, xh) float32 dask.array<shape=(12, 35, 576, 720), chunksize=(1, 35, 576, 720)>\n",
       "    poc              (time, z_l, yh, xh) float32 dask.array<shape=(12, 35, 576, 720), chunksize=(1, 35, 576, 720)>\n",
       "    no3              (time, z_l, yh, xh) float32 dask.array<shape=(12, 35, 576, 720), chunksize=(1, 35, 576, 720)>\n",
       "    nh4              (time, z_l, yh, xh) float32 dask.array<shape=(12, 35, 576, 720), chunksize=(1, 35, 576, 720)>\n",
       "    po4              (time, z_l, yh, xh) float32 dask.array<shape=(12, 35, 576, 720), chunksize=(1, 35, 576, 720)>\n",
       "    average_T1       (time) object dask.array<shape=(12,), chunksize=(1,)>\n",
       "    average_T2       (time) object dask.array<shape=(12,), chunksize=(1,)>\n",
       "    average_DT       (time) timedelta64[ns] dask.array<shape=(12,), chunksize=(1,)>\n",
       "    time_bnds        (time, nv) object dask.array<shape=(12, 2), chunksize=(1, 2)>\n",
       "Attributes:\n",
       "    filename:   08500101.ocean_month.nc\n",
       "    title:      ESM4_piControl_D\n",
       "    grid_type:  regular\n",
       "    grid_tile:  N/A"
      ]
     },
     "execution_count": 3,
     "metadata": {},
     "output_type": "execute_result"
    }
   ],
   "source": [
    "xr.open_mfdataset(rootdir)"
   ]
  },
  {
   "cell_type": "code",
   "execution_count": null,
   "metadata": {},
   "outputs": [],
   "source": []
  }
 ],
 "metadata": {
  "kernelspec": {
   "display_name": "Python 3",
   "language": "python",
   "name": "python3"
  },
  "language_info": {
   "codemirror_mode": {
    "name": "ipython",
    "version": 3
   },
   "file_extension": ".py",
   "mimetype": "text/x-python",
   "name": "python",
   "nbconvert_exporter": "python",
   "pygments_lexer": "ipython3",
   "version": "3.7.3"
  }
 },
 "nbformat": 4,
 "nbformat_minor": 2
}
