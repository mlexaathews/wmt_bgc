{
 "cells": [
  {
   "cell_type": "code",
   "execution_count": 1,
   "metadata": {},
   "outputs": [],
   "source": [
    "## How to do a volume weighted mean!!! Courtesy of Graeme MacGilchrist :)! \n",
    "## This method is important since our model doesn't have evenly sized \"boxes\" (cells?) \n",
    "## We'll be using volume weighted mean to have a fixed volume for our analyses\n",
    "    # Many of the variables that we're working with has units in mol m^-3 \n",
    "    # When we multiply by volume (units = m^3), we're only left with moles\n",
    "    # We need to then sum the total of all of the products in a specific \"box\" or cell of the model \n",
    "    # We also need to divide by the sum of the volume so that our final units will again be in mol m^-3 \n",
    "    # This will give us an adjusted/fixed volume for us to accurately compare our data"
   ]
  },
  {
   "cell_type": "code",
   "execution_count": 2,
   "metadata": {},
   "outputs": [],
   "source": [
    "import xarray as xr\n",
    "import numpy as np \n",
    "from matplotlib import pyplot as plt"
   ]
  },
  {
   "cell_type": "code",
   "execution_count": 3,
   "metadata": {},
   "outputs": [],
   "source": [
    "## For this example we'll be using phytoplankton and temperature binned together \n",
    "## The main thing to remember is to NOT bin phytoplankton and temperature together BEFORE calculating the volume weighted mean\n",
    "## Trust me; I've tried this and it only caused errors, headaches, and tears in my non-air conditioned apartment\n"
   ]
  },
  {
   "cell_type": "code",
   "execution_count": 4,
   "metadata": {},
   "outputs": [
    {
     "name": "stderr",
     "output_type": "stream",
     "text": [
      "/nbhome/Alexandra.Matthews/miniconda/envs/basic/lib/python3.7/site-packages/xarray/coding/times.py:419: SerializationWarning: Unable to decode time axis into full numpy.datetime64 objects, continuing using cftime.datetime objects instead, reason: dates out of range\n",
      "  self.use_cftime)\n"
     ]
    }
   ],
   "source": [
    "rootdir = '/archive/oar.gfdl.cmip6/ESM4/DECK/ESM4_piControl_D/gfdl.ncrc4-intel16-prod-openmp/pp/'\n",
    "datadir_temperature = 'ocean_monthly_z/ts/monthly/5yr/'\n",
    "filename_temperature = 'ocean_monthly_z.071101-071512.thetao.nc'\n",
    "\n",
    "\n",
    "\n",
    "datadir_phytoplankton = 'ocean_cobalt_omip_tracers_month_z/ts/monthly/5yr/'\n",
    "filename_phytoplankton = 'ocean_cobalt_omip_tracers_month_z.071101-071512.phyc.nc'\n",
    "\n",
    "\n",
    "temperature = xr.open_dataset(rootdir+datadir_temperature+filename_temperature)\n",
    "phytoplankton = xr.open_dataset(rootdir+datadir_phytoplankton+filename_phytoplankton)"
   ]
  },
  {
   "cell_type": "code",
   "execution_count": 5,
   "metadata": {},
   "outputs": [
    {
     "name": "stdout",
     "output_type": "stream",
     "text": [
      "<xarray.Dataset>\n",
      "Dimensions:     (nv: 2, time: 60, xh: 720, yh: 576, z_i: 36, z_l: 35)\n",
      "Coordinates:\n",
      "  * nv          (nv) float64 1.0 2.0\n",
      "  * time        (time) object 0711-01-16 12:00:00 ... 0715-12-16 12:00:00\n",
      "  * xh          (xh) float64 -299.8 -299.2 -298.8 -298.2 ... 58.75 59.25 59.75\n",
      "  * yh          (yh) float64 -77.91 -77.72 -77.54 -77.36 ... 89.47 89.68 89.89\n",
      "  * z_i         (z_i) float64 0.0 5.0 15.0 25.0 ... 5.75e+03 6.25e+03 6.75e+03\n",
      "  * z_l         (z_l) float64 2.5 10.0 20.0 32.5 ... 5e+03 5.5e+03 6e+03 6.5e+03\n",
      "Data variables:\n",
      "    average_DT  (time) timedelta64[ns] 31 days 28 days ... 30 days 31 days\n",
      "    average_T1  (time) object 0710-07-08 00:00:00 ... 0715-06-06 00:00:00\n",
      "    average_T2  (time) object 0710-08-08 00:00:00 ... 0715-07-07 00:00:00\n",
      "    thetao      (time, z_l, yh, xh) float32 ...\n",
      "    time_bnds   (time, nv) object 0711-01-01 00:00:00 ... 0716-01-01 00:00:00\n",
      "    phyc        (time, z_l, yh, xh) float32 ...\n"
     ]
    },
    {
     "name": "stderr",
     "output_type": "stream",
     "text": [
      "/nbhome/Alexandra.Matthews/miniconda/envs/basic/lib/python3.7/site-packages/numpy/core/numeric.py:538: SerializationWarning: Unable to decode time axis into full numpy.datetime64 objects, continuing using cftime.datetime objects instead, reason: dates out of range\n",
      "  return array(a, dtype, copy=False, order=order)\n",
      "/nbhome/Alexandra.Matthews/miniconda/envs/basic/lib/python3.7/site-packages/numpy/core/numeric.py:538: SerializationWarning: Unable to decode time axis into full numpy.datetime64 objects, continuing using cftime.datetime objects instead, reason: dates out of range\n",
      "  return array(a, dtype, copy=False, order=order)\n"
     ]
    }
   ],
   "source": [
    "## Even though I said to NOT bin temperature and phytoplankton together, we still need to merge the temperature and phytoplankton arrays..\n",
    "## ..together so that we can have the combined units into one dataset \n",
    "\n",
    "ds = xr.merge([temperature, phytoplankton])\n",
    "\n",
    "## We can check to see the variables that are now in this dataset \n",
    "\n",
    "print(ds)\n"
   ]
  },
  {
   "cell_type": "code",
   "execution_count": 7,
   "metadata": {},
   "outputs": [],
   "source": [
    "## You can see that temperature \"thetao\" and phytoplankton \"phyc\" are now in the dataset titles \"ds\"\n",
    "\n",
    "## Now let's create the name for the volume variable \n",
    "    # Just to clear any confusion, phytoplankton and volume are in the same data directory so I just used the data directory that..\n",
    "    #..I had named \"datadir_phytoplankton\"\n",
    "    \n",
    "filename_volume = 'ocean_cobalt_omip_tracers_month_z.071101-071512.volcello.nc'\n",
    "volume = xr.open_dataset(rootdir+datadir_phytoplankton+filename_volume)"
   ]
  },
  {
   "cell_type": "code",
   "execution_count": 8,
   "metadata": {},
   "outputs": [
    {
     "name": "stderr",
     "output_type": "stream",
     "text": [
      "/nbhome/Alexandra.Matthews/miniconda/envs/basic/lib/python3.7/site-packages/numpy/core/numeric.py:538: SerializationWarning: Unable to decode time axis into full numpy.datetime64 objects, continuing using cftime.datetime objects instead, reason: dates out of range\n",
      "  return array(a, dtype, copy=False, order=order)\n",
      "/nbhome/Alexandra.Matthews/miniconda/envs/basic/lib/python3.7/site-packages/numpy/core/numeric.py:538: SerializationWarning: Unable to decode time axis into full numpy.datetime64 objects, continuing using cftime.datetime objects instead, reason: dates out of range\n",
      "  return array(a, dtype, copy=False, order=order)\n"
     ]
    }
   ],
   "source": [
    "## Cool, now here's the part that made me cry :'( \n",
    "## We're going to merge the contents that are in the variable \"ds\" (remember: this contains the merged phytoplankton and temperature data)\n",
    "## Again, this will combine all of our variables and units into one dataset\n",
    "\n",
    "df = xr.merge([ds, volume])\n",
    "\n",
    "## We now have phytoplankton, temperature, and volume in one dataset"
   ]
  },
  {
   "cell_type": "code",
   "execution_count": 9,
   "metadata": {},
   "outputs": [],
   "source": [
    "## The formula for a volume weighted mean is sum((variable with m^-3)(volume)) / sum(volume)\n",
    "# Let's make a variable for the un-summed part of the numerator (the phytoplankton and volume part of the variable \"df\")\n",
    "\n",
    "pV = df.volcello*df.phyc\n",
    "pV.name = 'pV'\n",
    "df = xr.merge([df,pV])\n",
    "\n",
    "## By merging the variable \"pV\" with \"df\", we combine these data arrays to make one distinct variable (un-summed part of the numerator)..\n",
    "## ..in the dataset \"df\" \n"
   ]
  },
  {
   "cell_type": "code",
   "execution_count": 10,
   "metadata": {},
   "outputs": [],
   "source": [
    "## NOW WE DO SOME BINNING! \n",
    "# We're going to bin \"df\" (the dataset with pV and the rest of the variables in df) with temperature\n",
    "# We will also bin volume with temperature for when we divide the numerator by the denominator in the volume weighted mean formula\n",
    "# Additionally, we need to bin \"pV\" since that's our numerator in the volume weighted mean formula \n",
    "\n",
    "df = df.set_coords('thetao')\n",
    "theta_bins = np.arange(-2,30,2) # This specifies the range of the bins! It's totally up to how you want to arrange your graph. \n",
    "pV_in_theta = df.pV.isel(time=5,z_l=0).groupby_bins('thetao',theta_bins)\n",
    "V_in_theta = df.volcello.isel(time=5,z_l=0).groupby_bins('thetao',theta_bins)"
   ]
  },
  {
   "cell_type": "code",
   "execution_count": 11,
   "metadata": {},
   "outputs": [
    {
     "data": {
      "text/plain": [
       "[<matplotlib.lines.Line2D at 0x2afa2a2c2828>]"
      ]
     },
     "execution_count": 11,
     "metadata": {},
     "output_type": "execute_result"
    },
    {
     "data": {
      "image/png": "[encoded data removed]",
      "text/plain": [
       "<Figure size 432x288 with 1 Axes>"
      ]
     },
     "metadata": {
      "needs_background": "light"
     },
     "output_type": "display_data"
    }
   ],
   "source": [
    "## And finally the moment that we've (well, I've) been waiting for:\n",
    "\n",
    "p_vmean = pV_in_theta.sum(xr.ALL_DIMS)/V_in_theta.sum(xr.ALL_DIMS)\n",
    "\n",
    "p_vmean.plot()"
   ]
  },
  {
   "cell_type": "code",
   "execution_count": 12,
   "metadata": {},
   "outputs": [],
   "source": [
    "## And there you have it! It was really so simple to be honest. Well, simple after Graeme explained it :)! \n",
    "## You can apply this script to any variables where you're looking to compare different cells of the model. \n",
    "## Alrighty, happy coding! Thanks again Graeme; you're the best! My headache and tears were worth it (not really though). "
   ]
  },
  {
   "cell_type": "code",
   "execution_count": null,
   "metadata": {},
   "outputs": [],
   "source": []
  }
 ],
 "metadata": {
  "kernelspec": {
   "display_name": "Python 3",
   "language": "python",
   "name": "python3"
  },
  "language_info": {
   "codemirror_mode": {
    "name": "ipython",
    "version": 3
   },
   "file_extension": ".py",
   "mimetype": "text/x-python",
   "name": "python",
   "nbconvert_exporter": "python",
   "pygments_lexer": "ipython3",
   "version": "3.7.3"
  }
 },
 "nbformat": 4,
 "nbformat_minor": 2
}
